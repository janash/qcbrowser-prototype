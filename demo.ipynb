{
 "cells": [
  {
   "cell_type": "code",
   "execution_count": 1,
   "metadata": {},
   "outputs": [
    {
     "data": {
      "application/vnd.jupyter.widget-view+json": {
       "model_id": "f98ab0feff144bc59c01642b4a2a0f95",
       "version_major": 2,
       "version_minor": 0
      },
      "text/plain": []
     },
     "metadata": {},
     "output_type": "display_data"
    }
   ],
   "source": [
    "import pandas as pd\n",
    "import qcportal as ptl\n",
    "\n",
    "import mols2grid\n",
    "\n",
    "from rdkit import Chem\n",
    "\n",
    "from singlepoint import SinglePointDatasetProcessor, SinglePointRecordBrowser, SinglePointDatasetBrowser"
   ]
  },
  {
   "cell_type": "code",
   "execution_count": 2,
   "metadata": {},
   "outputs": [],
   "source": [
    "client = ptl.PortalClient(\"https://api.qcarchive.molssi.org\")"
   ]
  },
  {
   "cell_type": "code",
   "execution_count": 3,
   "metadata": {},
   "outputs": [
    {
     "data": {
      "text/html": [
       "<div>\n",
       "<style scoped>\n",
       "    .dataframe tbody tr th:only-of-type {\n",
       "        vertical-align: middle;\n",
       "    }\n",
       "\n",
       "    .dataframe tbody tr th {\n",
       "        vertical-align: top;\n",
       "    }\n",
       "\n",
       "    .dataframe thead th {\n",
       "        text-align: right;\n",
       "    }\n",
       "</style>\n",
       "<table border=\"1\" class=\"dataframe\">\n",
       "  <thead>\n",
       "    <tr style=\"text-align: right;\">\n",
       "      <th></th>\n",
       "      <th>id</th>\n",
       "      <th>dataset_type</th>\n",
       "      <th>dataset_name</th>\n",
       "      <th>record_count</th>\n",
       "    </tr>\n",
       "  </thead>\n",
       "  <tbody>\n",
       "    <tr>\n",
       "      <th>0</th>\n",
       "      <td>35</td>\n",
       "      <td>torsiondrive</td>\n",
       "      <td>OpenFF Fragmenter Phenyl Benchmark</td>\n",
       "      <td>454</td>\n",
       "    </tr>\n",
       "    <tr>\n",
       "      <th>1</th>\n",
       "      <td>36</td>\n",
       "      <td>torsiondrive</td>\n",
       "      <td>OpenFF Group1 Torsions</td>\n",
       "      <td>820</td>\n",
       "    </tr>\n",
       "    <tr>\n",
       "      <th>2</th>\n",
       "      <td>41</td>\n",
       "      <td>optimization</td>\n",
       "      <td>OpenFF Optimization Set 1</td>\n",
       "      <td>937</td>\n",
       "    </tr>\n",
       "    <tr>\n",
       "      <th>3</th>\n",
       "      <td>42</td>\n",
       "      <td>torsiondrive</td>\n",
       "      <td>Fragment Stability Benchmark</td>\n",
       "      <td>86</td>\n",
       "    </tr>\n",
       "    <tr>\n",
       "      <th>4</th>\n",
       "      <td>43</td>\n",
       "      <td>optimization</td>\n",
       "      <td>SMIRNOFF Coverage Set 1</td>\n",
       "      <td>1132</td>\n",
       "    </tr>\n",
       "  </tbody>\n",
       "</table>\n",
       "</div>"
      ],
      "text/plain": [
       "   id  dataset_type                        dataset_name  record_count\n",
       "0  35  torsiondrive  OpenFF Fragmenter Phenyl Benchmark           454\n",
       "1  36  torsiondrive              OpenFF Group1 Torsions           820\n",
       "2  41  optimization           OpenFF Optimization Set 1           937\n",
       "3  42  torsiondrive        Fragment Stability Benchmark            86\n",
       "4  43  optimization             SMIRNOFF Coverage Set 1          1132"
      ]
     },
     "execution_count": 3,
     "metadata": {},
     "output_type": "execute_result"
    }
   ],
   "source": [
    "datasets = pd.DataFrame(client.list_datasets())\n",
    "datasets.head()"
   ]
  },
  {
   "cell_type": "code",
   "execution_count": 4,
   "metadata": {},
   "outputs": [],
   "source": [
    "ds = client.get_dataset_by_id(357)"
   ]
  },
  {
   "cell_type": "code",
   "execution_count": 5,
   "metadata": {},
   "outputs": [],
   "source": [
    "dsp = SinglePointDatasetProcessor(ds)"
   ]
  },
  {
   "cell_type": "code",
   "execution_count": 6,
   "metadata": {},
   "outputs": [],
   "source": [
    "df = dsp.get_record_df(stop=10, store_entry=True, get_openff=True, get_rdkit=True)"
   ]
  },
  {
   "cell_type": "code",
   "execution_count": 7,
   "metadata": {},
   "outputs": [
    {
     "data": {
      "text/html": [
       "<div>\n",
       "<style scoped>\n",
       "    .dataframe tbody tr th:only-of-type {\n",
       "        vertical-align: middle;\n",
       "    }\n",
       "\n",
       "    .dataframe tbody tr th {\n",
       "        vertical-align: top;\n",
       "    }\n",
       "\n",
       "    .dataframe thead th {\n",
       "        text-align: right;\n",
       "    }\n",
       "</style>\n",
       "<table border=\"1\" class=\"dataframe\">\n",
       "  <thead>\n",
       "    <tr style=\"text-align: right;\">\n",
       "      <th></th>\n",
       "      <th>Entry Name</th>\n",
       "      <th>spec_1</th>\n",
       "    </tr>\n",
       "  </thead>\n",
       "  <tbody>\n",
       "    <tr>\n",
       "      <th>0</th>\n",
       "      <td>c1cnccc1CO</td>\n",
       "      <td>&lt;SinglepointRecord id=102602373 status=RecordS...</td>\n",
       "    </tr>\n",
       "    <tr>\n",
       "      <th>1</th>\n",
       "      <td>c1cc(ccc1C(=O)N)NC(=O)CN2CCC(CC2)NC(=O)O-0</td>\n",
       "      <td>&lt;SinglepointRecord id=102591094 status=RecordS...</td>\n",
       "    </tr>\n",
       "    <tr>\n",
       "      <th>2</th>\n",
       "      <td>c1cc(ccc1C(=O)N)NC(=O)CN2CCC(CC2)NC(=O)O-1</td>\n",
       "      <td>&lt;SinglepointRecord id=102590998 status=RecordS...</td>\n",
       "    </tr>\n",
       "    <tr>\n",
       "      <th>3</th>\n",
       "      <td>c1cc(ccc1C(=O)N)NC(=O)CN2CCC(CC2)NC(=O)O-2</td>\n",
       "      <td>&lt;SinglepointRecord id=102591106 status=RecordS...</td>\n",
       "    </tr>\n",
       "    <tr>\n",
       "      <th>4</th>\n",
       "      <td>c1cc(ccc1C(=O)N)NC(=O)CN2CCC(CC2)NC(=O)O-3</td>\n",
       "      <td>&lt;SinglepointRecord id=102591068 status=RecordS...</td>\n",
       "    </tr>\n",
       "  </tbody>\n",
       "</table>\n",
       "</div>"
      ],
      "text/plain": [
       "                                   Entry Name  \\\n",
       "0                                  c1cnccc1CO   \n",
       "1  c1cc(ccc1C(=O)N)NC(=O)CN2CCC(CC2)NC(=O)O-0   \n",
       "2  c1cc(ccc1C(=O)N)NC(=O)CN2CCC(CC2)NC(=O)O-1   \n",
       "3  c1cc(ccc1C(=O)N)NC(=O)CN2CCC(CC2)NC(=O)O-2   \n",
       "4  c1cc(ccc1C(=O)N)NC(=O)CN2CCC(CC2)NC(=O)O-3   \n",
       "\n",
       "                                              spec_1  \n",
       "0  <SinglepointRecord id=102602373 status=RecordS...  \n",
       "1  <SinglepointRecord id=102591094 status=RecordS...  \n",
       "2  <SinglepointRecord id=102590998 status=RecordS...  \n",
       "3  <SinglepointRecord id=102591106 status=RecordS...  \n",
       "4  <SinglepointRecord id=102591068 status=RecordS...  "
      ]
     },
     "execution_count": 7,
     "metadata": {},
     "output_type": "execute_result"
    }
   ],
   "source": [
    "df.head()"
   ]
  },
  {
   "cell_type": "code",
   "execution_count": 10,
   "metadata": {},
   "outputs": [
    {
     "data": {
      "text/html": [
       "\n",
       "        <style>\n",
       "        .widget-html {\n",
       "            padding: 8px;\n",
       "        }\n",
       "        .property-table tr:nth-child(even) {\n",
       "            background-color: #f5f5f5;\n",
       "        }\n",
       "        .property-table td, .property-table th {\n",
       "            padding: 8px;\n",
       "            text-align: left;\n",
       "        }\n",
       "        .property-table th {\n",
       "            border-bottom: 2px solid #000;\n",
       "        }\n",
       "        </style>\n",
       "        "
      ],
      "text/plain": [
       "<IPython.core.display.HTML object>"
      ]
     },
     "metadata": {},
     "output_type": "display_data"
    },
    {
     "data": {
      "application/vnd.jupyter.widget-view+json": {
       "model_id": "a64726e5bc194bd6995c4b29af774bae",
       "version_major": 2,
       "version_minor": 0
      },
      "text/plain": [
       "VBox(children=(HTML(value='\\n        <div style=\"\\n            background: #f5f5f5;\\n            border: 1px s…"
      ]
     },
     "metadata": {},
     "output_type": "display_data"
    }
   ],
   "source": [
    "SinglePointRecordBrowser(df.iloc[0,1])"
   ]
  },
  {
   "cell_type": "code",
   "execution_count": 9,
   "metadata": {},
   "outputs": [
    {
     "data": {
      "text/html": [
       "\n",
       "        <style>\n",
       "        .widget-html {\n",
       "            padding: 8px;\n",
       "        }\n",
       "        .widget-gridbox {\n",
       "            border-collapse: collapse;\n",
       "        }\n",
       "        .widget-gridbox > .widget-html:nth-child(-n+6) {\n",
       "            border-bottom: 2px solid #000;\n",
       "        }\n",
       "        .widget-gridbox > .widget-html, .widget-gridbox > .widget-vbox {\n",
       "            border-bottom: 1px solid #ddd;\n",
       "            padding: 8px;\n",
       "        }\n",
       "        </style>\n",
       "        "
      ],
      "text/plain": [
       "<IPython.core.display.HTML object>"
      ]
     },
     "metadata": {},
     "output_type": "display_data"
    },
    {
     "data": {
      "application/vnd.jupyter.widget-view+json": {
       "model_id": "9733866c585e4b78887d62cc3c69157e",
       "version_major": 2,
       "version_minor": 0
      },
      "text/plain": [
       "VBox(children=(HTML(value='\\n        <div style=\"\\n            background: #f5f5f5;\\n            border: 1px s…"
      ]
     },
     "metadata": {},
     "output_type": "display_data"
    }
   ],
   "source": [
    "browser = SinglePointDatasetBrowser(dsp)\n",
    "browser"
   ]
  },
  {
   "cell_type": "code",
   "execution_count": null,
   "metadata": {},
   "outputs": [
    {
     "ename": "AttributeError",
     "evalue": "'SinglePointDatasetProcessor' object has no attribute 'specifications'",
     "output_type": "error",
     "traceback": [
      "\u001b[0;31m---------------------------------------------------------------------------\u001b[0m",
      "\u001b[0;31mAttributeError\u001b[0m                            Traceback (most recent call last)",
      "Cell \u001b[0;32mIn[12], line 1\u001b[0m\n\u001b[0;32m----> 1\u001b[0m \u001b[43mdsp\u001b[49m\u001b[38;5;241;43m.\u001b[39;49m\u001b[43mspecifications\u001b[49m\n",
      "\u001b[0;31mAttributeError\u001b[0m: 'SinglePointDatasetProcessor' object has no attribute 'specifications'"
     ]
    }
   ],
   "source": []
  },
  {
   "cell_type": "code",
   "execution_count": null,
   "metadata": {},
   "outputs": [],
   "source": []
  }
 ],
 "metadata": {
  "kernelspec": {
   "display_name": "qcbrowse",
   "language": "python",
   "name": "python3"
  },
  "language_info": {
   "codemirror_mode": {
    "name": "ipython",
    "version": 3
   },
   "file_extension": ".py",
   "mimetype": "text/x-python",
   "name": "python",
   "nbconvert_exporter": "python",
   "pygments_lexer": "ipython3",
   "version": "3.12.9"
  }
 },
 "nbformat": 4,
 "nbformat_minor": 2
}
